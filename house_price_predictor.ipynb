{
 "cells": [
  {
   "cell_type": "code",
   "execution_count": 397,
   "id": "32da653a-43ad-406d-93ac-f00a897bac75",
   "metadata": {},
   "outputs": [],
   "source": [
    "import numpy as np\n",
    "import pandas as pd"
   ]
  },
  {
   "cell_type": "raw",
   "id": "b79d042d-4896-47f7-bbcd-bdf7f952130a",
   "metadata": {},
   "source": [
    "##Data Description\n",
    "📌 Area_type - Description of the area\n",
    "📌 Availability - When it can be possessed or when it is ready\n",
    "📌 Location - Where it is located in Bengaluru\n",
    "📌 Size - BHK or Bedrooms\n",
    "📌 Society - To which society it belongs\n",
    "📌 Total_sqft - Size of the property in sq.ft\n",
    "📌 Bath - No. of Bathrooms\n",
    "📌 Balcony - No. of the Balcony\n",
    "📌 Price - Value of the property in lakhs (Indian Rupee - ₹)"
   ]
  },
  {
   "cell_type": "raw",
   "id": "390173fc-2c76-43c4-a600-a15adc2eaf92",
   "metadata": {},
   "source": [
    "df=pd.read_csv('Bengaluru_House_Data.csv')"
   ]
  },
  {
   "cell_type": "code",
   "execution_count": 399,
   "id": "218ccb13-4abf-4575-bcc6-7e830f50a1fa",
   "metadata": {},
   "outputs": [
    {
     "data": {
      "text/html": [
       "<div>\n",
       "<style scoped>\n",
       "    .dataframe tbody tr th:only-of-type {\n",
       "        vertical-align: middle;\n",
       "    }\n",
       "\n",
       "    .dataframe tbody tr th {\n",
       "        vertical-align: top;\n",
       "    }\n",
       "\n",
       "    .dataframe thead th {\n",
       "        text-align: right;\n",
       "    }\n",
       "</style>\n",
       "<table border=\"1\" class=\"dataframe\">\n",
       "  <thead>\n",
       "    <tr style=\"text-align: right;\">\n",
       "      <th></th>\n",
       "      <th>area_type</th>\n",
       "      <th>availability</th>\n",
       "      <th>location</th>\n",
       "      <th>size</th>\n",
       "      <th>society</th>\n",
       "      <th>total_sqft</th>\n",
       "      <th>bath</th>\n",
       "      <th>balcony</th>\n",
       "      <th>price</th>\n",
       "    </tr>\n",
       "  </thead>\n",
       "  <tbody>\n",
       "    <tr>\n",
       "      <th>0</th>\n",
       "      <td>Super built-up  Area</td>\n",
       "      <td>19-Dec</td>\n",
       "      <td>Electronic City Phase II</td>\n",
       "      <td>2 BHK</td>\n",
       "      <td>Coomee</td>\n",
       "      <td>1056</td>\n",
       "      <td>2.0</td>\n",
       "      <td>1.0</td>\n",
       "      <td>39.07</td>\n",
       "    </tr>\n",
       "    <tr>\n",
       "      <th>1</th>\n",
       "      <td>Plot  Area</td>\n",
       "      <td>Ready To Move</td>\n",
       "      <td>Chikka Tirupathi</td>\n",
       "      <td>4 Bedroom</td>\n",
       "      <td>Theanmp</td>\n",
       "      <td>2600</td>\n",
       "      <td>5.0</td>\n",
       "      <td>3.0</td>\n",
       "      <td>120.00</td>\n",
       "    </tr>\n",
       "    <tr>\n",
       "      <th>2</th>\n",
       "      <td>Built-up  Area</td>\n",
       "      <td>Ready To Move</td>\n",
       "      <td>Uttarahalli</td>\n",
       "      <td>3 BHK</td>\n",
       "      <td>NaN</td>\n",
       "      <td>1440</td>\n",
       "      <td>2.0</td>\n",
       "      <td>3.0</td>\n",
       "      <td>62.00</td>\n",
       "    </tr>\n",
       "    <tr>\n",
       "      <th>3</th>\n",
       "      <td>Super built-up  Area</td>\n",
       "      <td>Ready To Move</td>\n",
       "      <td>Lingadheeranahalli</td>\n",
       "      <td>3 BHK</td>\n",
       "      <td>Soiewre</td>\n",
       "      <td>1521</td>\n",
       "      <td>3.0</td>\n",
       "      <td>1.0</td>\n",
       "      <td>95.00</td>\n",
       "    </tr>\n",
       "    <tr>\n",
       "      <th>4</th>\n",
       "      <td>Super built-up  Area</td>\n",
       "      <td>Ready To Move</td>\n",
       "      <td>Kothanur</td>\n",
       "      <td>2 BHK</td>\n",
       "      <td>NaN</td>\n",
       "      <td>1200</td>\n",
       "      <td>2.0</td>\n",
       "      <td>1.0</td>\n",
       "      <td>51.00</td>\n",
       "    </tr>\n",
       "  </tbody>\n",
       "</table>\n",
       "</div>"
      ],
      "text/plain": [
       "              area_type   availability                  location       size  \\\n",
       "0  Super built-up  Area         19-Dec  Electronic City Phase II      2 BHK   \n",
       "1            Plot  Area  Ready To Move          Chikka Tirupathi  4 Bedroom   \n",
       "2        Built-up  Area  Ready To Move               Uttarahalli      3 BHK   \n",
       "3  Super built-up  Area  Ready To Move        Lingadheeranahalli      3 BHK   \n",
       "4  Super built-up  Area  Ready To Move                  Kothanur      2 BHK   \n",
       "\n",
       "   society total_sqft  bath  balcony   price  \n",
       "0  Coomee        1056   2.0      1.0   39.07  \n",
       "1  Theanmp       2600   5.0      3.0  120.00  \n",
       "2      NaN       1440   2.0      3.0   62.00  \n",
       "3  Soiewre       1521   3.0      1.0   95.00  \n",
       "4      NaN       1200   2.0      1.0   51.00  "
      ]
     },
     "execution_count": 399,
     "metadata": {},
     "output_type": "execute_result"
    }
   ],
   "source": [
    "df.head()"
   ]
  },
  {
   "cell_type": "code",
   "execution_count": 400,
   "id": "f55da360-d971-45ac-b4cc-37da8b95b0e5",
   "metadata": {},
   "outputs": [
    {
     "data": {
      "text/plain": [
       "(13320, 9)"
      ]
     },
     "execution_count": 400,
     "metadata": {},
     "output_type": "execute_result"
    }
   ],
   "source": [
    "df.shape"
   ]
  },
  {
   "cell_type": "code",
   "execution_count": 436,
   "id": "a1f3a069-0d76-486d-aec5-6ef121354764",
   "metadata": {},
   "outputs": [],
   "source": [
    "\n",
    "#Exploratory Data Analysis (EDA)\n"
   ]
  },
  {
   "cell_type": "code",
   "execution_count": 401,
   "id": "3313082a-369c-421e-9206-b4d97070ea4a",
   "metadata": {},
   "outputs": [
    {
     "name": "stdout",
     "output_type": "stream",
     "text": [
      "<class 'pandas.core.frame.DataFrame'>\n",
      "RangeIndex: 13320 entries, 0 to 13319\n",
      "Data columns (total 9 columns):\n",
      " #   Column        Non-Null Count  Dtype  \n",
      "---  ------        --------------  -----  \n",
      " 0   area_type     13320 non-null  object \n",
      " 1   availability  13320 non-null  object \n",
      " 2   location      13319 non-null  object \n",
      " 3   size          13304 non-null  object \n",
      " 4   society       7818 non-null   object \n",
      " 5   total_sqft    13320 non-null  object \n",
      " 6   bath          13247 non-null  float64\n",
      " 7   balcony       12711 non-null  float64\n",
      " 8   price         13320 non-null  float64\n",
      "dtypes: float64(3), object(6)\n",
      "memory usage: 936.7+ KB\n"
     ]
    }
   ],
   "source": [
    "df.info()"
   ]
  },
  {
   "cell_type": "code",
   "execution_count": 435,
   "id": "593db54f-d7b3-4568-9699-ef0dcf5abb98",
   "metadata": {},
   "outputs": [],
   "source": [
    "\n",
    "#Check for NULL values\n"
   ]
  },
  {
   "cell_type": "code",
   "execution_count": 402,
   "id": "6cae599f-549f-4cc9-b66b-acb0e4a425a7",
   "metadata": {},
   "outputs": [
    {
     "data": {
      "text/plain": [
       "area_type          0\n",
       "availability       0\n",
       "location           1\n",
       "size              16\n",
       "society         5502\n",
       "total_sqft         0\n",
       "bath              73\n",
       "balcony          609\n",
       "price              0\n",
       "dtype: int64"
      ]
     },
     "execution_count": 402,
     "metadata": {},
     "output_type": "execute_result"
    }
   ],
   "source": [
    "df.isnull().sum()"
   ]
  },
  {
   "cell_type": "code",
   "execution_count": 403,
   "id": "3b2552f9-0370-4b1a-83e1-bb82649234ed",
   "metadata": {},
   "outputs": [
    {
     "data": {
      "text/plain": [
       "area_type        0.000000\n",
       "availability     0.000000\n",
       "location         0.007508\n",
       "size             0.120120\n",
       "society         41.306306\n",
       "total_sqft       0.000000\n",
       "bath             0.548048\n",
       "balcony          4.572072\n",
       "price            0.000000\n",
       "dtype: float64"
      ]
     },
     "execution_count": 403,
     "metadata": {},
     "output_type": "execute_result"
    }
   ],
   "source": [
    "df.isnull().sum()/len(df)*100"
   ]
  },
  {
   "cell_type": "code",
   "execution_count": 434,
   "id": "fa7e6d2f-9127-421a-a64f-9ff0202af4a5",
   "metadata": {},
   "outputs": [],
   "source": [
    "\n",
    "#Removing NaN Values and Unnecessary Columns\n"
   ]
  },
  {
   "cell_type": "code",
   "execution_count": 404,
   "id": "29e0aabc-0b64-4542-b7ae-3e465c3f89e6",
   "metadata": {},
   "outputs": [],
   "source": [
    "df.dropna(inplace =True)"
   ]
  },
  {
   "cell_type": "code",
   "execution_count": 405,
   "id": "e03f228b-ba5f-4102-bd61-8e88f36b319f",
   "metadata": {},
   "outputs": [],
   "source": [
    "df = df.drop(columns='society')"
   ]
  },
  {
   "cell_type": "code",
   "execution_count": 406,
   "id": "bc24d531-9cbd-4823-a757-1b59487a46e1",
   "metadata": {},
   "outputs": [
    {
     "data": {
      "image/png": "[encoded data removed]",
      "text/plain": [
       "<Figure size 640x480 with 1 Axes>"
      ]
     },
     "metadata": {},
     "output_type": "display_data"
    }
   ],
   "source": [
    "import matplotlib.pyplot as plt\n",
    "(df[\"area_type\"].value_counts()).plot.pie(autopct=\"%.1f%%\", shadow=True,rotatelabels=True, wedgeprops={'linewidth': 6}, radius=1)\n",
    "plt.show()"
   ]
  },
  {
   "cell_type": "code",
   "execution_count": 407,
   "id": "f3cf061f-e5d7-45f1-bcc3-51be081275bf",
   "metadata": {},
   "outputs": [
    {
     "data": {
      "image/png": "[encoded data removed]",
      "text/plain": [
       "<Figure size 2000x800 with 1 Axes>"
      ]
     },
     "metadata": {},
     "output_type": "display_data"
    }
   ],
   "source": [
    "plt.figure(figsize = (20,8))\n",
    "ax=sns.countplot(x = 'balcony', data = df)\n",
    "plt.xticks(rotation = 90)\n",
    "for p in ax.patches:\n",
    "    ax.annotate(int(p.get_height()), (p.get_x()+0.25, p.get_height()+1), va = 'bottom', color = 'black')"
   ]
  },
  {
   "cell_type": "code",
   "execution_count": 408,
   "id": "7a5a52bb-4f1c-430c-9f65-7b998c9b5b2b",
   "metadata": {},
   "outputs": [
    {
     "data": {
      "image/png": "[encoded data removed]",
      "text/plain": [
       "<Figure size 789.25x600 with 1 Axes>"
      ]
     },
     "metadata": {},
     "output_type": "display_data"
    }
   ],
   "source": [
    "import warnings\n",
    "warnings.filterwarnings('ignore')\n",
    "\n",
    "sns.FacetGrid(df, hue='area_type', height=6).map(sns.distplot, 'balcony').add_legend()\n",
    "plt.show()"
   ]
  },
  {
   "cell_type": "code",
   "execution_count": 409,
   "id": "00cad80c-6827-4227-91a5-05d71356ff90",
   "metadata": {},
   "outputs": [
    {
     "data": {
      "image/png": "[encoded data removed]",
      "text/plain": [
       "<Figure size 789.25x600 with 1 Axes>"
      ]
     },
     "metadata": {},
     "output_type": "display_data"
    }
   ],
   "source": [
    "import warnings\n",
    "warnings.filterwarnings('ignore')\n",
    "\n",
    "sns.FacetGrid(df, hue='area_type', height=6).map(sns.distplot, 'bath').add_legend()\n",
    "plt.show()"
   ]
  },
  {
   "cell_type": "code",
   "execution_count": 433,
   "id": "90fcee8e-c971-4fe1-a15c-ab607ca8839a",
   "metadata": {},
   "outputs": [],
   "source": [
    "\n",
    "#Convert BHK to integer type\n"
   ]
  },
  {
   "cell_type": "code",
   "execution_count": 411,
   "id": "29b10332-00fb-4bbb-8cdc-d848af3e185d",
   "metadata": {},
   "outputs": [],
   "source": [
    "df['bhk'] = df['size'].str.split().str[0]\n",
    "df['bhk'].dropna(inplace = True)\n",
    "df['bhk'] = df['bhk'].astype('int')"
   ]
  },
  {
   "cell_type": "code",
   "execution_count": 412,
   "id": "f8888076-7355-4170-8d25-44c024953bd2",
   "metadata": {},
   "outputs": [
    {
     "data": {
      "image/png": "[encoded data removed]",
      "text/plain": [
       "<Figure size 2000x800 with 1 Axes>"
      ]
     },
     "metadata": {},
     "output_type": "display_data"
    }
   ],
   "source": [
    "plt.figure(figsize = (20,8))\n",
    "ax=sns.countplot(x = 'bhk', data = df)\n",
    "plt.xticks(rotation = 90)\n",
    "for p in ax.patches:\n",
    "    ax.annotate(int(p.get_height()), (p.get_x()+0.25, p.get_height()+1), va = 'bottom', color = 'black')"
   ]
  },
  {
   "cell_type": "code",
   "execution_count": 413,
   "id": "3f99296e-5403-4b87-8506-a83557997378",
   "metadata": {},
   "outputs": [
    {
     "data": {
      "image/png": "[encoded data removed]",
      "text/plain": [
       "<Figure size 640x480 with 1 Axes>"
      ]
     },
     "metadata": {},
     "output_type": "display_data"
    }
   ],
   "source": [
    "sns.boxplot(x = 'bhk', y = 'price', data = df)\n",
    "plt.show()"
   ]
  },
  {
   "cell_type": "code",
   "execution_count": 414,
   "id": "2432b707-79ce-4db8-99d6-89cc6619a36a",
   "metadata": {},
   "outputs": [
    {
     "name": "stdout",
     "output_type": "stream",
     "text": [
      "30    2100 - 2850\n",
      "Name: total_sqft, dtype: object\n"
     ]
    }
   ],
   "source": [
    "print(df['total_sqft'].iloc[[17]])\n",
    "\n",
    "def convert_sqft_to_num(x):\n",
    "    tokens = x.split('-')\n",
    "    if len(tokens) == 2:\n",
    "        return (float(tokens[0])+float(tokens[1]))/2\n",
    "    try:\n",
    "        return float(x)\n",
    "    except:\n",
    "        return None"
   ]
  },
  {
   "cell_type": "code",
   "execution_count": 415,
   "id": "1e1dae3c-324a-466d-85a5-96d33f9661bf",
   "metadata": {},
   "outputs": [
    {
     "data": {
      "text/html": [
       "<div>\n",
       "<style scoped>\n",
       "    .dataframe tbody tr th:only-of-type {\n",
       "        vertical-align: middle;\n",
       "    }\n",
       "\n",
       "    .dataframe tbody tr th {\n",
       "        vertical-align: top;\n",
       "    }\n",
       "\n",
       "    .dataframe thead th {\n",
       "        text-align: right;\n",
       "    }\n",
       "</style>\n",
       "<table border=\"1\" class=\"dataframe\">\n",
       "  <thead>\n",
       "    <tr style=\"text-align: right;\">\n",
       "      <th></th>\n",
       "      <th>area_type</th>\n",
       "      <th>availability</th>\n",
       "      <th>location</th>\n",
       "      <th>size</th>\n",
       "      <th>total_sqft</th>\n",
       "      <th>bath</th>\n",
       "      <th>balcony</th>\n",
       "      <th>price</th>\n",
       "      <th>bhk</th>\n",
       "    </tr>\n",
       "  </thead>\n",
       "  <tbody>\n",
       "    <tr>\n",
       "      <th>0</th>\n",
       "      <td>Super built-up  Area</td>\n",
       "      <td>19-Dec</td>\n",
       "      <td>Electronic City Phase II</td>\n",
       "      <td>2 BHK</td>\n",
       "      <td>1056.0</td>\n",
       "      <td>2.0</td>\n",
       "      <td>1.0</td>\n",
       "      <td>39.07</td>\n",
       "      <td>2</td>\n",
       "    </tr>\n",
       "    <tr>\n",
       "      <th>1</th>\n",
       "      <td>Plot  Area</td>\n",
       "      <td>Ready To Move</td>\n",
       "      <td>Chikka Tirupathi</td>\n",
       "      <td>4 Bedroom</td>\n",
       "      <td>2600.0</td>\n",
       "      <td>5.0</td>\n",
       "      <td>3.0</td>\n",
       "      <td>120.00</td>\n",
       "      <td>4</td>\n",
       "    </tr>\n",
       "  </tbody>\n",
       "</table>\n",
       "</div>"
      ],
      "text/plain": [
       "              area_type   availability                  location       size  \\\n",
       "0  Super built-up  Area         19-Dec  Electronic City Phase II      2 BHK   \n",
       "1            Plot  Area  Ready To Move          Chikka Tirupathi  4 Bedroom   \n",
       "\n",
       "   total_sqft  bath  balcony   price  bhk  \n",
       "0      1056.0   2.0      1.0   39.07    2  \n",
       "1      2600.0   5.0      3.0  120.00    4  "
      ]
     },
     "execution_count": 415,
     "metadata": {},
     "output_type": "execute_result"
    }
   ],
   "source": [
    "df.total_sqft = df.total_sqft.apply(convert_sqft_to_num)\n",
    "df = df[df.total_sqft.notnull()]\n",
    "df.head(2)"
   ]
  },
  {
   "cell_type": "code",
   "execution_count": 432,
   "id": "f398f691-53ea-4455-8160-b4f9d19980fa",
   "metadata": {},
   "outputs": [],
   "source": [
    "\n",
    "#Removing Invalid Data Entries\n",
    "\n",
    "#Example: The total sqft divided by the number of BHK should always be more than 300\n"
   ]
  },
  {
   "cell_type": "code",
   "execution_count": 416,
   "id": "e4486f09-0e9f-4653-8cc3-1597c51b8f48",
   "metadata": {},
   "outputs": [
    {
     "data": {
      "text/plain": [
       "(7439, 9)"
      ]
     },
     "execution_count": 416,
     "metadata": {},
     "output_type": "execute_result"
    }
   ],
   "source": [
    "df = df[~(df.total_sqft/df.bhk<300)]\n",
    "df.shape"
   ]
  },
  {
   "cell_type": "code",
   "execution_count": 431,
   "id": "2c967b21-8eed-441b-84f8-4f70e70b4110",
   "metadata": {},
   "outputs": [],
   "source": [
    "\n",
    "#Extract Numerical and Categorical Data\n"
   ]
  },
  {
   "cell_type": "code",
   "execution_count": 417,
   "id": "2d9a6664-f792-4b86-91b7-f5d7d1409a98",
   "metadata": {},
   "outputs": [],
   "source": [
    "numerical = df.select_dtypes(include = 'float64')\n",
    "categorical = df.select_dtypes(include  = 'object')"
   ]
  },
  {
   "cell_type": "code",
   "execution_count": 418,
   "id": "5bff6d97-512a-43ee-b733-accee738c2c2",
   "metadata": {},
   "outputs": [],
   "source": [
    "import seaborn as sns"
   ]
  },
  {
   "cell_type": "code",
   "execution_count": 419,
   "id": "205417a3-498b-408f-b713-52646dbef1d4",
   "metadata": {},
   "outputs": [
    {
     "data": {
      "image/png": "[encoded data removed]",
      "text/plain": [
       "<Figure size 1000x800 with 4 Axes>"
      ]
     },
     "metadata": {},
     "output_type": "display_data"
    }
   ],
   "source": [
    "fig = plt.figure(figsize = (10,8))\n",
    "for index,col in enumerate(numerical):\n",
    "    plt.subplot(3,2,index+1)\n",
    "    sns.boxplot(y = numerical.loc[:,col])\n",
    "fig.tight_layout(pad = 1.0)"
   ]
  },
  {
   "cell_type": "code",
   "execution_count": 420,
   "id": "7853fb32-7e90-4f21-9fa2-4f02b38bb0a6",
   "metadata": {},
   "outputs": [],
   "source": [
    "df = df.drop(df[df['bath']>6].index)\n",
    "df = df.drop(df[df['bhk']>7.0].index)"
   ]
  },
  {
   "cell_type": "code",
   "execution_count": 421,
   "id": "e4a72c23-2c9a-4c3c-af88-c6f38ae643d3",
   "metadata": {},
   "outputs": [
    {
     "data": {
      "text/html": [
       "<div>\n",
       "<style scoped>\n",
       "    .dataframe tbody tr th:only-of-type {\n",
       "        vertical-align: middle;\n",
       "    }\n",
       "\n",
       "    .dataframe tbody tr th {\n",
       "        vertical-align: top;\n",
       "    }\n",
       "\n",
       "    .dataframe thead th {\n",
       "        text-align: right;\n",
       "    }\n",
       "</style>\n",
       "<table border=\"1\" class=\"dataframe\">\n",
       "  <thead>\n",
       "    <tr style=\"text-align: right;\">\n",
       "      <th></th>\n",
       "      <th>area_type</th>\n",
       "      <th>availability</th>\n",
       "      <th>location</th>\n",
       "      <th>size</th>\n",
       "      <th>total_sqft</th>\n",
       "      <th>bath</th>\n",
       "      <th>balcony</th>\n",
       "      <th>price</th>\n",
       "      <th>bhk</th>\n",
       "      <th>price_per_sqft</th>\n",
       "    </tr>\n",
       "  </thead>\n",
       "  <tbody>\n",
       "    <tr>\n",
       "      <th>0</th>\n",
       "      <td>Super built-up  Area</td>\n",
       "      <td>19-Dec</td>\n",
       "      <td>Electronic City Phase II</td>\n",
       "      <td>2 BHK</td>\n",
       "      <td>1056.0</td>\n",
       "      <td>2.0</td>\n",
       "      <td>1.0</td>\n",
       "      <td>39.07</td>\n",
       "      <td>2</td>\n",
       "      <td>3699.810606</td>\n",
       "    </tr>\n",
       "    <tr>\n",
       "      <th>1</th>\n",
       "      <td>Plot  Area</td>\n",
       "      <td>Ready To Move</td>\n",
       "      <td>Chikka Tirupathi</td>\n",
       "      <td>4 Bedroom</td>\n",
       "      <td>2600.0</td>\n",
       "      <td>5.0</td>\n",
       "      <td>3.0</td>\n",
       "      <td>120.00</td>\n",
       "      <td>4</td>\n",
       "      <td>4615.384615</td>\n",
       "    </tr>\n",
       "    <tr>\n",
       "      <th>3</th>\n",
       "      <td>Super built-up  Area</td>\n",
       "      <td>Ready To Move</td>\n",
       "      <td>Lingadheeranahalli</td>\n",
       "      <td>3 BHK</td>\n",
       "      <td>1521.0</td>\n",
       "      <td>3.0</td>\n",
       "      <td>1.0</td>\n",
       "      <td>95.00</td>\n",
       "      <td>3</td>\n",
       "      <td>6245.890861</td>\n",
       "    </tr>\n",
       "    <tr>\n",
       "      <th>5</th>\n",
       "      <td>Super built-up  Area</td>\n",
       "      <td>Ready To Move</td>\n",
       "      <td>Whitefield</td>\n",
       "      <td>2 BHK</td>\n",
       "      <td>1170.0</td>\n",
       "      <td>2.0</td>\n",
       "      <td>1.0</td>\n",
       "      <td>38.00</td>\n",
       "      <td>2</td>\n",
       "      <td>3247.863248</td>\n",
       "    </tr>\n",
       "    <tr>\n",
       "      <th>11</th>\n",
       "      <td>Plot  Area</td>\n",
       "      <td>Ready To Move</td>\n",
       "      <td>Whitefield</td>\n",
       "      <td>4 Bedroom</td>\n",
       "      <td>2785.0</td>\n",
       "      <td>5.0</td>\n",
       "      <td>3.0</td>\n",
       "      <td>295.00</td>\n",
       "      <td>4</td>\n",
       "      <td>10592.459605</td>\n",
       "    </tr>\n",
       "  </tbody>\n",
       "</table>\n",
       "</div>"
      ],
      "text/plain": [
       "               area_type   availability                  location       size  \\\n",
       "0   Super built-up  Area         19-Dec  Electronic City Phase II      2 BHK   \n",
       "1             Plot  Area  Ready To Move          Chikka Tirupathi  4 Bedroom   \n",
       "3   Super built-up  Area  Ready To Move        Lingadheeranahalli      3 BHK   \n",
       "5   Super built-up  Area  Ready To Move                Whitefield      2 BHK   \n",
       "11            Plot  Area  Ready To Move                Whitefield  4 Bedroom   \n",
       "\n",
       "    total_sqft  bath  balcony   price  bhk  price_per_sqft  \n",
       "0       1056.0   2.0      1.0   39.07    2     3699.810606  \n",
       "1       2600.0   5.0      3.0  120.00    4     4615.384615  \n",
       "3       1521.0   3.0      1.0   95.00    3     6245.890861  \n",
       "5       1170.0   2.0      1.0   38.00    2     3247.863248  \n",
       "11      2785.0   5.0      3.0  295.00    4    10592.459605  "
      ]
     },
     "execution_count": 421,
     "metadata": {},
     "output_type": "execute_result"
    }
   ],
   "source": [
    "df['price_per_sqft'] = df['price']*100000/df['total_sqft']\n",
    "df.head()"
   ]
  },
  {
   "cell_type": "code",
   "execution_count": 430,
   "id": "e5735f60-5759-4d50-99f0-3bc5a6e680ca",
   "metadata": {},
   "outputs": [],
   "source": [
    "\n",
    "#Taking Values Within 1st Standard Deviation\n",
    "\n",
    "#As per Normal Distribution, 95% of our data lies within 1st Standard Deviation\n"
   ]
  },
  {
   "cell_type": "code",
   "execution_count": 422,
   "id": "7a352a46-536b-4600-9a88-a6420ce0b9ef",
   "metadata": {},
   "outputs": [
    {
     "data": {
      "text/plain": [
       "(5360, 10)"
      ]
     },
     "execution_count": 422,
     "metadata": {},
     "output_type": "execute_result"
    }
   ],
   "source": [
    "def remove_pps_outliers(df):\n",
    "    df_out = pd.DataFrame()\n",
    "    for key, subdf in df.groupby('location'):\n",
    "        mean = np.mean(subdf.price_per_sqft)\n",
    "        sd = np.std(subdf.price_per_sqft)\n",
    "        reduced_df = subdf[(subdf.price_per_sqft>(mean-sd)) & (subdf.price_per_sqft<=(mean+sd))]\n",
    "        df_out = pd.concat([df_out,reduced_df],ignore_index=True)\n",
    "    return df_out\n",
    "df = remove_pps_outliers(df)\n",
    "df.shape"
   ]
  },
  {
   "cell_type": "code",
   "execution_count": 429,
   "id": "5386050d-58eb-4bbd-8ac7-3f7bcacd6741",
   "metadata": {},
   "outputs": [],
   "source": [
    "\n",
    "#Finding Correlation Values\n",
    "\n",
    "#Removing features highly correlated with each other as they do not provide additional significance to the model\n"
   ]
  },
  {
   "cell_type": "code",
   "execution_count": 423,
   "id": "7cdbee95-0fdd-4ca5-9b26-25d9404fddfc",
   "metadata": {},
   "outputs": [],
   "source": [
    "import plotly.graph_objects as go"
   ]
  },
  {
   "cell_type": "code",
   "execution_count": 424,
   "id": "7324787c-c843-4599-8a67-1416b394477b",
   "metadata": {},
   "outputs": [
    {
     "data": {
      "application/vnd.plotly.v1+json": {
       "config": {
        "plotlyServerURL": "https://plot.ly"
       },
       "data": [
        {
         "colorbar": {
          "title": {
           "text": "Correlation"
          }
         },
         "colorscale": [
          [
           0,
           "rgb(247,251,255)"
          ],
          [
           0.125,
           "rgb(222,235,247)"
          ],
          [
           0.25,
           "rgb(198,219,239)"
          ],
          [
           0.375,
           "rgb(158,202,225)"
          ],
          [
           0.5,
           "rgb(107,174,214)"
          ],
          [
           0.625,
           "rgb(66,146,198)"
          ],
          [
           0.75,
           "rgb(33,113,181)"
          ],
          [
           0.875,
           "rgb(8,81,156)"
          ],
          [
           1,
           "rgb(8,48,107)"
          ]
         ],
         "showscale": true,
         "type": "heatmap",
         "x": [
          "total_sqft",
          "bath",
          "balcony",
          "price",
          "bhk",
          "price_per_sqft"
         ],
         "y": [
          "total_sqft",
          "bath",
          "balcony",
          "price",
          "bhk",
          "price_per_sqft"
         ],
         "z": [
          [
           1,
           0.8115002804500786,
           null,
           0.8420868110913471,
           null,
           null
          ],
          [
           0.8115002804500786,
           1,
           null,
           null,
           0.8080219794969264,
           null
          ],
          [
           null,
           null,
           1,
           null,
           null,
           null
          ],
          [
           0.8420868110913471,
           null,
           null,
           1,
           null,
           null
          ],
          [
           null,
           0.8080219794969264,
           null,
           null,
           1,
           null
          ],
          [
           null,
           null,
           null,
           null,
           null,
           1
          ]
         ],
         "zmax": 1,
         "zmin": -1
        }
       ],
       "layout": {
        "height": 1000,
        "margin": {
         "b": 50,
         "l": 50,
         "r": 50,
         "t": 50
        },
        "template": {
         "data": {
          "bar": [
           {
            "error_x": {
             "color": "#2a3f5f"
            },
            "error_y": {
             "color": "#2a3f5f"
            },
            "marker": {
             "line": {
              "color": "#E5ECF6",
              "width": 0.5
             },
             "pattern": {
              "fillmode": "overlay",
              "size": 10,
              "solidity": 0.2
             }
            },
            "type": "bar"
           }
          ],
          "barpolar": [
           {
            "marker": {
             "line": {
              "color": "#E5ECF6",
              "width": 0.5
             },
             "pattern": {
              "fillmode": "overlay",
              "size": 10,
              "solidity": 0.2
             }
            },
            "type": "barpolar"
           }
          ],
          "carpet": [
           {
            "aaxis": {
             "endlinecolor": "#2a3f5f",
             "gridcolor": "white",
             "linecolor": "white",
             "minorgridcolor": "white",
             "startlinecolor": "#2a3f5f"
            },
            "baxis": {
             "endlinecolor": "#2a3f5f",
             "gridcolor": "white",
             "linecolor": "white",
             "minorgridcolor": "white",
             "startlinecolor": "#2a3f5f"
            },
            "type": "carpet"
           }
          ],
          "choropleth": [
           {
            "colorbar": {
             "outlinewidth": 0,
             "ticks": ""
            },
            "type": "choropleth"
           }
          ],
          "contour": [
           {
            "colorbar": {
             "outlinewidth": 0,
             "ticks": ""
            },
            "colorscale": [
             [
              0,
              "#0d0887"
             ],
             [
              0.1111111111111111,
              "#46039f"
             ],
             [
              0.2222222222222222,
              "#7201a8"
             ],
             [
              0.3333333333333333,
              "#9c179e"
             ],
             [
              0.4444444444444444,
              "#bd3786"
             ],
             [
              0.5555555555555556,
              "#d8576b"
             ],
             [
              0.6666666666666666,
              "#ed7953"
             ],
             [
              0.7777777777777778,
              "#fb9f3a"
             ],
             [
              0.8888888888888888,
              "#fdca26"
             ],
             [
              1,
              "#f0f921"
             ]
            ],
            "type": "contour"
           }
          ],
          "contourcarpet": [
           {
            "colorbar": {
             "outlinewidth": 0,
             "ticks": ""
            },
            "type": "contourcarpet"
           }
          ],
          "heatmap": [
           {
            "colorbar": {
             "outlinewidth": 0,
             "ticks": ""
            },
            "colorscale": [
             [
              0,
              "#0d0887"
             ],
             [
              0.1111111111111111,
              "#46039f"
             ],
             [
              0.2222222222222222,
              "#7201a8"
             ],
             [
              0.3333333333333333,
              "#9c179e"
             ],
             [
              0.4444444444444444,
              "#bd3786"
             ],
             [
              0.5555555555555556,
              "#d8576b"
             ],
             [
              0.6666666666666666,
              "#ed7953"
             ],
             [
              0.7777777777777778,
              "#fb9f3a"
             ],
             [
              0.8888888888888888,
              "#fdca26"
             ],
             [
              1,
              "#f0f921"
             ]
            ],
            "type": "heatmap"
           }
          ],
          "heatmapgl": [
           {
            "colorbar": {
             "outlinewidth": 0,
             "ticks": ""
            },
            "colorscale": [
             [
              0,
              "#0d0887"
             ],
             [
              0.1111111111111111,
              "#46039f"
             ],
             [
              0.2222222222222222,
              "#7201a8"
             ],
             [
              0.3333333333333333,
              "#9c179e"
             ],
             [
              0.4444444444444444,
              "#bd3786"
             ],
             [
              0.5555555555555556,
              "#d8576b"
             ],
             [
              0.6666666666666666,
              "#ed7953"
             ],
             [
              0.7777777777777778,
              "#fb9f3a"
             ],
             [
              0.8888888888888888,
              "#fdca26"
             ],
             [
              1,
              "#f0f921"
             ]
            ],
            "type": "heatmapgl"
           }
          ],
          "histogram": [
           {
            "marker": {
             "pattern": {
              "fillmode": "overlay",
              "size": 10,
              "solidity": 0.2
             }
            },
            "type": "histogram"
           }
          ],
          "histogram2d": [
           {
            "colorbar": {
             "outlinewidth": 0,
             "ticks": ""
            },
            "colorscale": [
             [
              0,
              "#0d0887"
             ],
             [
              0.1111111111111111,
              "#46039f"
             ],
             [
              0.2222222222222222,
              "#7201a8"
             ],
             [
              0.3333333333333333,
              "#9c179e"
             ],
             [
              0.4444444444444444,
              "#bd3786"
             ],
             [
              0.5555555555555556,
              "#d8576b"
             ],
             [
              0.6666666666666666,
              "#ed7953"
             ],
             [
              0.7777777777777778,
              "#fb9f3a"
             ],
             [
              0.8888888888888888,
              "#fdca26"
             ],
             [
              1,
              "#f0f921"
             ]
            ],
            "type": "histogram2d"
           }
          ],
          "histogram2dcontour": [
           {
            "colorbar": {
             "outlinewidth": 0,
             "ticks": ""
            },
            "colorscale": [
             [
              0,
              "#0d0887"
             ],
             [
              0.1111111111111111,
              "#46039f"
             ],
             [
              0.2222222222222222,
              "#7201a8"
             ],
             [
              0.3333333333333333,
              "#9c179e"
             ],
             [
              0.4444444444444444,
              "#bd3786"
             ],
             [
              0.5555555555555556,
              "#d8576b"
             ],
             [
              0.6666666666666666,
              "#ed7953"
             ],
             [
              0.7777777777777778,
              "#fb9f3a"
             ],
             [
              0.8888888888888888,
              "#fdca26"
             ],
             [
              1,
              "#f0f921"
             ]
            ],
            "type": "histogram2dcontour"
           }
          ],
          "mesh3d": [
           {
            "colorbar": {
             "outlinewidth": 0,
             "ticks": ""
            },
            "type": "mesh3d"
           }
          ],
          "parcoords": [
           {
            "line": {
             "colorbar": {
              "outlinewidth": 0,
              "ticks": ""
             }
            },
            "type": "parcoords"
           }
          ],
          "pie": [
           {
            "automargin": true,
            "type": "pie"
           }
          ],
          "scatter": [
           {
            "fillpattern": {
             "fillmode": "overlay",
             "size": 10,
             "solidity": 0.2
            },
            "type": "scatter"
           }
          ],
          "scatter3d": [
           {
            "line": {
             "colorbar": {
              "outlinewidth": 0,
              "ticks": ""
             }
            },
            "marker": {
             "colorbar": {
              "outlinewidth": 0,
              "ticks": ""
             }
            },
            "type": "scatter3d"
           }
          ],
          "scattercarpet": [
           {
            "marker": {
             "colorbar": {
              "outlinewidth": 0,
              "ticks": ""
             }
            },
            "type": "scattercarpet"
           }
          ],
          "scattergeo": [
           {
            "marker": {
             "colorbar": {
              "outlinewidth": 0,
              "ticks": ""
             }
            },
            "type": "scattergeo"
           }
          ],
          "scattergl": [
           {
            "marker": {
             "colorbar": {
              "outlinewidth": 0,
              "ticks": ""
             }
            },
            "type": "scattergl"
           }
          ],
          "scattermapbox": [
           {
            "marker": {
             "colorbar": {
              "outlinewidth": 0,
              "ticks": ""
             }
            },
            "type": "scattermapbox"
           }
          ],
          "scatterpolar": [
           {
            "marker": {
             "colorbar": {
              "outlinewidth": 0,
              "ticks": ""
             }
            },
            "type": "scatterpolar"
           }
          ],
          "scatterpolargl": [
           {
            "marker": {
             "colorbar": {
              "outlinewidth": 0,
              "ticks": ""
             }
            },
            "type": "scatterpolargl"
           }
          ],
          "scatterternary": [
           {
            "marker": {
             "colorbar": {
              "outlinewidth": 0,
              "ticks": ""
             }
            },
            "type": "scatterternary"
           }
          ],
          "surface": [
           {
            "colorbar": {
             "outlinewidth": 0,
             "ticks": ""
            },
            "colorscale": [
             [
              0,
              "#0d0887"
             ],
             [
              0.1111111111111111,
              "#46039f"
             ],
             [
              0.2222222222222222,
              "#7201a8"
             ],
             [
              0.3333333333333333,
              "#9c179e"
             ],
             [
              0.4444444444444444,
              "#bd3786"
             ],
             [
              0.5555555555555556,
              "#d8576b"
             ],
             [
              0.6666666666666666,
              "#ed7953"
             ],
             [
              0.7777777777777778,
              "#fb9f3a"
             ],
             [
              0.8888888888888888,
              "#fdca26"
             ],
             [
              1,
              "#f0f921"
             ]
            ],
            "type": "surface"
           }
          ],
          "table": [
           {
            "cells": {
             "fill": {
              "color": "#EBF0F8"
             },
             "line": {
              "color": "white"
             }
            },
            "header": {
             "fill": {
              "color": "#C8D4E3"
             },
             "line": {
              "color": "white"
             }
            },
            "type": "table"
           }
          ]
         },
         "layout": {
          "annotationdefaults": {
           "arrowcolor": "#2a3f5f",
           "arrowhead": 0,
           "arrowwidth": 1
          },
          "autotypenumbers": "strict",
          "coloraxis": {
           "colorbar": {
            "outlinewidth": 0,
            "ticks": ""
           }
          },
          "colorscale": {
           "diverging": [
            [
             0,
             "#8e0152"
            ],
            [
             0.1,
             "#c51b7d"
            ],
            [
             0.2,
             "#de77ae"
            ],
            [
             0.3,
             "#f1b6da"
            ],
            [
             0.4,
             "#fde0ef"
            ],
            [
             0.5,
             "#f7f7f7"
            ],
            [
             0.6,
             "#e6f5d0"
            ],
            [
             0.7,
             "#b8e186"
            ],
            [
             0.8,
             "#7fbc41"
            ],
            [
             0.9,
             "#4d9221"
            ],
            [
             1,
             "#276419"
            ]
           ],
           "sequential": [
            [
             0,
             "#0d0887"
            ],
            [
             0.1111111111111111,
             "#46039f"
            ],
            [
             0.2222222222222222,
             "#7201a8"
            ],
            [
             0.3333333333333333,
             "#9c179e"
            ],
            [
             0.4444444444444444,
             "#bd3786"
            ],
            [
             0.5555555555555556,
             "#d8576b"
            ],
            [
             0.6666666666666666,
             "#ed7953"
            ],
            [
             0.7777777777777778,
             "#fb9f3a"
            ],
            [
             0.8888888888888888,
             "#fdca26"
            ],
            [
             1,
             "#f0f921"
            ]
           ],
           "sequentialminus": [
            [
             0,
             "#0d0887"
            ],
            [
             0.1111111111111111,
             "#46039f"
            ],
            [
             0.2222222222222222,
             "#7201a8"
            ],
            [
             0.3333333333333333,
             "#9c179e"
            ],
            [
             0.4444444444444444,
             "#bd3786"
            ],
            [
             0.5555555555555556,
             "#d8576b"
            ],
            [
             0.6666666666666666,
             "#ed7953"
            ],
            [
             0.7777777777777778,
             "#fb9f3a"
            ],
            [
             0.8888888888888888,
             "#fdca26"
            ],
            [
             1,
             "#f0f921"
            ]
           ]
          },
          "colorway": [
           "#636efa",
           "#EF553B",
           "#00cc96",
           "#ab63fa",
           "#FFA15A",
           "#19d3f3",
           "#FF6692",
           "#B6E880",
           "#FF97FF",
           "#FECB52"
          ],
          "font": {
           "color": "#2a3f5f"
          },
          "geo": {
           "bgcolor": "white",
           "lakecolor": "white",
           "landcolor": "#E5ECF6",
           "showlakes": true,
           "showland": true,
           "subunitcolor": "white"
          },
          "hoverlabel": {
           "align": "left"
          },
          "hovermode": "closest",
          "mapbox": {
           "style": "light"
          },
          "paper_bgcolor": "white",
          "plot_bgcolor": "#E5ECF6",
          "polar": {
           "angularaxis": {
            "gridcolor": "white",
            "linecolor": "white",
            "ticks": ""
           },
           "bgcolor": "#E5ECF6",
           "radialaxis": {
            "gridcolor": "white",
            "linecolor": "white",
            "ticks": ""
           }
          },
          "scene": {
           "xaxis": {
            "backgroundcolor": "#E5ECF6",
            "gridcolor": "white",
            "gridwidth": 2,
            "linecolor": "white",
            "showbackground": true,
            "ticks": "",
            "zerolinecolor": "white"
           },
           "yaxis": {
            "backgroundcolor": "#E5ECF6",
            "gridcolor": "white",
            "gridwidth": 2,
            "linecolor": "white",
            "showbackground": true,
            "ticks": "",
            "zerolinecolor": "white"
           },
           "zaxis": {
            "backgroundcolor": "#E5ECF6",
            "gridcolor": "white",
            "gridwidth": 2,
            "linecolor": "white",
            "showbackground": true,
            "ticks": "",
            "zerolinecolor": "white"
           }
          },
          "shapedefaults": {
           "line": {
            "color": "#2a3f5f"
           }
          },
          "ternary": {
           "aaxis": {
            "gridcolor": "white",
            "linecolor": "white",
            "ticks": ""
           },
           "baxis": {
            "gridcolor": "white",
            "linecolor": "white",
            "ticks": ""
           },
           "bgcolor": "#E5ECF6",
           "caxis": {
            "gridcolor": "white",
            "linecolor": "white",
            "ticks": ""
           }
          },
          "title": {
           "x": 0.05
          },
          "xaxis": {
           "automargin": true,
           "gridcolor": "white",
           "linecolor": "white",
           "ticks": "",
           "title": {
            "standoff": 15
           },
           "zerolinecolor": "white",
           "zerolinewidth": 2
          },
          "yaxis": {
           "automargin": true,
           "gridcolor": "white",
           "linecolor": "white",
           "ticks": "",
           "title": {
            "standoff": 15
           },
           "zerolinecolor": "white",
           "zerolinewidth": 2
          }
         }
        },
        "title": {
         "text": "Correlation Heatmap"
        },
        "width": 1000,
        "xaxis": {
         "autorange": true,
         "range": [
          -0.5,
          5.5
         ],
         "ticktext": [
          "total_sqft",
          "bath",
          "balcony",
          "price",
          "bhk",
          "price_per_sqft"
         ],
         "tickvals": [
          "total_sqft",
          "bath",
          "balcony",
          "price",
          "bhk",
          "price_per_sqft"
         ],
         "title": {
          "text": "Features"
         },
         "type": "category"
        },
        "yaxis": {
         "autorange": true,
         "range": [
          -0.5,
          5.5
         ],
         "ticktext": [
          "total_sqft",
          "bath",
          "balcony",
          "price",
          "bhk",
          "price_per_sqft"
         ],
         "tickvals": [
          "total_sqft",
          "bath",
          "balcony",
          "price",
          "bhk",
          "price_per_sqft"
         ],
         "title": {
          "text": "Features"
         },
         "type": "category"
        }
       }
      },
      "image/png": "[encoded data removed]",
      "text/html": [
       "<div>                            <div id=\"bb8c5445-10e7-4b64-a3b4-a94cf6a462a4\" class=\"plotly-graph-div\" style=\"height:1000px; width:1000px;\"></div>            <script type=\"text/javascript\">                require([\"plotly\"], function(Plotly) {                    window.PLOTLYENV=window.PLOTLYENV || {};                                    if (document.getElementById(\"bb8c5445-10e7-4b64-a3b4-a94cf6a462a4\")) {                    Plotly.newPlot(                        \"bb8c5445-10e7-4b64-a3b4-a94cf6a462a4\",                        [{\"colorbar\":{\"title\":{\"text\":\"Correlation\"}},\"colorscale\":[[0.0,\"rgb(247,251,255)\"],[0.125,\"rgb(222,235,247)\"],[0.25,\"rgb(198,219,239)\"],[0.375,\"rgb(158,202,225)\"],[0.5,\"rgb(107,174,214)\"],[0.625,\"rgb(66,146,198)\"],[0.75,\"rgb(33,113,181)\"],[0.875,\"rgb(8,81,156)\"],[1.0,\"rgb(8,48,107)\"]],\"showscale\":true,\"x\":[\"total_sqft\",\"bath\",\"balcony\",\"price\",\"bhk\",\"price_per_sqft\"],\"y\":[\"total_sqft\",\"bath\",\"balcony\",\"price\",\"bhk\",\"price_per_sqft\"],\"z\":[[1.0,0.8115002804500786,null,0.8420868110913471,null,null],[0.8115002804500786,1.0,null,null,0.8080219794969264,null],[null,null,1.0,null,null,null],[0.8420868110913471,null,null,1.0,null,null],[null,0.8080219794969264,null,null,1.0,null],[null,null,null,null,null,1.0]],\"zmax\":1,\"zmin\":-1,\"type\":\"heatmap\"}],                        {\"template\":{\"data\":{\"histogram2dcontour\":[{\"type\":\"histogram2dcontour\",\"colorbar\":{\"outlinewidth\":0,\"ticks\":\"\"},\"colorscale\":[[0.0,\"#0d0887\"],[0.1111111111111111,\"#46039f\"],[0.2222222222222222,\"#7201a8\"],[0.3333333333333333,\"#9c179e\"],[0.4444444444444444,\"#bd3786\"],[0.5555555555555556,\"#d8576b\"],[0.6666666666666666,\"#ed7953\"],[0.7777777777777778,\"#fb9f3a\"],[0.8888888888888888,\"#fdca26\"],[1.0,\"#f0f921\"]]}],\"choropleth\":[{\"type\":\"choropleth\",\"colorbar\":{\"outlinewidth\":0,\"ticks\":\"\"}}],\"histogram2d\":[{\"type\":\"histogram2d\",\"colorbar\":{\"outlinewidth\":0,\"ticks\":\"\"},\"colorscale\":[[0.0,\"#0d0887\"],[0.1111111111111111,\"#46039f\"],[0.2222222222222222,\"#7201a8\"],[0.3333333333333333,\"#9c179e\"],[0.4444444444444444,\"#bd3786\"],[0.5555555555555556,\"#d8576b\"],[0.6666666666666666,\"#ed7953\"],[0.7777777777777778,\"#fb9f3a\"],[0.8888888888888888,\"#fdca26\"],[1.0,\"#f0f921\"]]}],\"heatmap\":[{\"type\":\"heatmap\",\"colorbar\":{\"outlinewidth\":0,\"ticks\":\"\"},\"colorscale\":[[0.0,\"#0d0887\"],[0.1111111111111111,\"#46039f\"],[0.2222222222222222,\"#7201a8\"],[0.3333333333333333,\"#9c179e\"],[0.4444444444444444,\"#bd3786\"],[0.5555555555555556,\"#d8576b\"],[0.6666666666666666,\"#ed7953\"],[0.7777777777777778,\"#fb9f3a\"],[0.8888888888888888,\"#fdca26\"],[1.0,\"#f0f921\"]]}],\"heatmapgl\":[{\"type\":\"heatmapgl\",\"colorbar\":{\"outlinewidth\":0,\"ticks\":\"\"},\"colorscale\":[[0.0,\"#0d0887\"],[0.1111111111111111,\"#46039f\"],[0.2222222222222222,\"#7201a8\"],[0.3333333333333333,\"#9c179e\"],[0.4444444444444444,\"#bd3786\"],[0.5555555555555556,\"#d8576b\"],[0.6666666666666666,\"#ed7953\"],[0.7777777777777778,\"#fb9f3a\"],[0.8888888888888888,\"#fdca26\"],[1.0,\"#f0f921\"]]}],\"contourcarpet\":[{\"type\":\"contourcarpet\",\"colorbar\":{\"outlinewidth\":0,\"ticks\":\"\"}}],\"contour\":[{\"type\":\"contour\",\"colorbar\":{\"outlinewidth\":0,\"ticks\":\"\"},\"colorscale\":[[0.0,\"#0d0887\"],[0.1111111111111111,\"#46039f\"],[0.2222222222222222,\"#7201a8\"],[0.3333333333333333,\"#9c179e\"],[0.4444444444444444,\"#bd3786\"],[0.5555555555555556,\"#d8576b\"],[0.6666666666666666,\"#ed7953\"],[0.7777777777777778,\"#fb9f3a\"],[0.8888888888888888,\"#fdca26\"],[1.0,\"#f0f921\"]]}],\"surface\":[{\"type\":\"surface\",\"colorbar\":{\"outlinewidth\":0,\"ticks\":\"\"},\"colorscale\":[[0.0,\"#0d0887\"],[0.1111111111111111,\"#46039f\"],[0.2222222222222222,\"#7201a8\"],[0.3333333333333333,\"#9c179e\"],[0.4444444444444444,\"#bd3786\"],[0.5555555555555556,\"#d8576b\"],[0.6666666666666666,\"#ed7953\"],[0.7777777777777778,\"#fb9f3a\"],[0.8888888888888888,\"#fdca26\"],[1.0,\"#f0f921\"]]}],\"mesh3d\":[{\"type\":\"mesh3d\",\"colorbar\":{\"outlinewidth\":0,\"ticks\":\"\"}}],\"scatter\":[{\"fillpattern\":{\"fillmode\":\"overlay\",\"size\":10,\"solidity\":0.2},\"type\":\"scatter\"}],\"parcoords\":[{\"type\":\"parcoords\",\"line\":{\"colorbar\":{\"outlinewidth\":0,\"ticks\":\"\"}}}],\"scatterpolargl\":[{\"type\":\"scatterpolargl\",\"marker\":{\"colorbar\":{\"outlinewidth\":0,\"ticks\":\"\"}}}],\"bar\":[{\"error_x\":{\"color\":\"#2a3f5f\"},\"error_y\":{\"color\":\"#2a3f5f\"},\"marker\":{\"line\":{\"color\":\"#E5ECF6\",\"width\":0.5},\"pattern\":{\"fillmode\":\"overlay\",\"size\":10,\"solidity\":0.2}},\"type\":\"bar\"}],\"scattergeo\":[{\"type\":\"scattergeo\",\"marker\":{\"colorbar\":{\"outlinewidth\":0,\"ticks\":\"\"}}}],\"scatterpolar\":[{\"type\":\"scatterpolar\",\"marker\":{\"colorbar\":{\"outlinewidth\":0,\"ticks\":\"\"}}}],\"histogram\":[{\"marker\":{\"pattern\":{\"fillmode\":\"overlay\",\"size\":10,\"solidity\":0.2}},\"type\":\"histogram\"}],\"scattergl\":[{\"type\":\"scattergl\",\"marker\":{\"colorbar\":{\"outlinewidth\":0,\"ticks\":\"\"}}}],\"scatter3d\":[{\"type\":\"scatter3d\",\"line\":{\"colorbar\":{\"outlinewidth\":0,\"ticks\":\"\"}},\"marker\":{\"colorbar\":{\"outlinewidth\":0,\"ticks\":\"\"}}}],\"scattermapbox\":[{\"type\":\"scattermapbox\",\"marker\":{\"colorbar\":{\"outlinewidth\":0,\"ticks\":\"\"}}}],\"scatterternary\":[{\"type\":\"scatterternary\",\"marker\":{\"colorbar\":{\"outlinewidth\":0,\"ticks\":\"\"}}}],\"scattercarpet\":[{\"type\":\"scattercarpet\",\"marker\":{\"colorbar\":{\"outlinewidth\":0,\"ticks\":\"\"}}}],\"carpet\":[{\"aaxis\":{\"endlinecolor\":\"#2a3f5f\",\"gridcolor\":\"white\",\"linecolor\":\"white\",\"minorgridcolor\":\"white\",\"startlinecolor\":\"#2a3f5f\"},\"baxis\":{\"endlinecolor\":\"#2a3f5f\",\"gridcolor\":\"white\",\"linecolor\":\"white\",\"minorgridcolor\":\"white\",\"startlinecolor\":\"#2a3f5f\"},\"type\":\"carpet\"}],\"table\":[{\"cells\":{\"fill\":{\"color\":\"#EBF0F8\"},\"line\":{\"color\":\"white\"}},\"header\":{\"fill\":{\"color\":\"#C8D4E3\"},\"line\":{\"color\":\"white\"}},\"type\":\"table\"}],\"barpolar\":[{\"marker\":{\"line\":{\"color\":\"#E5ECF6\",\"width\":0.5},\"pattern\":{\"fillmode\":\"overlay\",\"size\":10,\"solidity\":0.2}},\"type\":\"barpolar\"}],\"pie\":[{\"automargin\":true,\"type\":\"pie\"}]},\"layout\":{\"autotypenumbers\":\"strict\",\"colorway\":[\"#636efa\",\"#EF553B\",\"#00cc96\",\"#ab63fa\",\"#FFA15A\",\"#19d3f3\",\"#FF6692\",\"#B6E880\",\"#FF97FF\",\"#FECB52\"],\"font\":{\"color\":\"#2a3f5f\"},\"hovermode\":\"closest\",\"hoverlabel\":{\"align\":\"left\"},\"paper_bgcolor\":\"white\",\"plot_bgcolor\":\"#E5ECF6\",\"polar\":{\"bgcolor\":\"#E5ECF6\",\"angularaxis\":{\"gridcolor\":\"white\",\"linecolor\":\"white\",\"ticks\":\"\"},\"radialaxis\":{\"gridcolor\":\"white\",\"linecolor\":\"white\",\"ticks\":\"\"}},\"ternary\":{\"bgcolor\":\"#E5ECF6\",\"aaxis\":{\"gridcolor\":\"white\",\"linecolor\":\"white\",\"ticks\":\"\"},\"baxis\":{\"gridcolor\":\"white\",\"linecolor\":\"white\",\"ticks\":\"\"},\"caxis\":{\"gridcolor\":\"white\",\"linecolor\":\"white\",\"ticks\":\"\"}},\"coloraxis\":{\"colorbar\":{\"outlinewidth\":0,\"ticks\":\"\"}},\"colorscale\":{\"sequential\":[[0.0,\"#0d0887\"],[0.1111111111111111,\"#46039f\"],[0.2222222222222222,\"#7201a8\"],[0.3333333333333333,\"#9c179e\"],[0.4444444444444444,\"#bd3786\"],[0.5555555555555556,\"#d8576b\"],[0.6666666666666666,\"#ed7953\"],[0.7777777777777778,\"#fb9f3a\"],[0.8888888888888888,\"#fdca26\"],[1.0,\"#f0f921\"]],\"sequentialminus\":[[0.0,\"#0d0887\"],[0.1111111111111111,\"#46039f\"],[0.2222222222222222,\"#7201a8\"],[0.3333333333333333,\"#9c179e\"],[0.4444444444444444,\"#bd3786\"],[0.5555555555555556,\"#d8576b\"],[0.6666666666666666,\"#ed7953\"],[0.7777777777777778,\"#fb9f3a\"],[0.8888888888888888,\"#fdca26\"],[1.0,\"#f0f921\"]],\"diverging\":[[0,\"#8e0152\"],[0.1,\"#c51b7d\"],[0.2,\"#de77ae\"],[0.3,\"#f1b6da\"],[0.4,\"#fde0ef\"],[0.5,\"#f7f7f7\"],[0.6,\"#e6f5d0\"],[0.7,\"#b8e186\"],[0.8,\"#7fbc41\"],[0.9,\"#4d9221\"],[1,\"#276419\"]]},\"xaxis\":{\"gridcolor\":\"white\",\"linecolor\":\"white\",\"ticks\":\"\",\"title\":{\"standoff\":15},\"zerolinecolor\":\"white\",\"automargin\":true,\"zerolinewidth\":2},\"yaxis\":{\"gridcolor\":\"white\",\"linecolor\":\"white\",\"ticks\":\"\",\"title\":{\"standoff\":15},\"zerolinecolor\":\"white\",\"automargin\":true,\"zerolinewidth\":2},\"scene\":{\"xaxis\":{\"backgroundcolor\":\"#E5ECF6\",\"gridcolor\":\"white\",\"linecolor\":\"white\",\"showbackground\":true,\"ticks\":\"\",\"zerolinecolor\":\"white\",\"gridwidth\":2},\"yaxis\":{\"backgroundcolor\":\"#E5ECF6\",\"gridcolor\":\"white\",\"linecolor\":\"white\",\"showbackground\":true,\"ticks\":\"\",\"zerolinecolor\":\"white\",\"gridwidth\":2},\"zaxis\":{\"backgroundcolor\":\"#E5ECF6\",\"gridcolor\":\"white\",\"linecolor\":\"white\",\"showbackground\":true,\"ticks\":\"\",\"zerolinecolor\":\"white\",\"gridwidth\":2}},\"shapedefaults\":{\"line\":{\"color\":\"#2a3f5f\"}},\"annotationdefaults\":{\"arrowcolor\":\"#2a3f5f\",\"arrowhead\":0,\"arrowwidth\":1},\"geo\":{\"bgcolor\":\"white\",\"landcolor\":\"#E5ECF6\",\"subunitcolor\":\"white\",\"showland\":true,\"showlakes\":true,\"lakecolor\":\"white\"},\"title\":{\"x\":0.05},\"mapbox\":{\"style\":\"light\"}}},\"xaxis\":{\"title\":{\"text\":\"Features\"},\"tickvals\":[\"total_sqft\",\"bath\",\"balcony\",\"price\",\"bhk\",\"price_per_sqft\"],\"ticktext\":[\"total_sqft\",\"bath\",\"balcony\",\"price\",\"bhk\",\"price_per_sqft\"]},\"yaxis\":{\"title\":{\"text\":\"Features\"},\"tickvals\":[\"total_sqft\",\"bath\",\"balcony\",\"price\",\"bhk\",\"price_per_sqft\"],\"ticktext\":[\"total_sqft\",\"bath\",\"balcony\",\"price\",\"bhk\",\"price_per_sqft\"]},\"margin\":{\"l\":50,\"r\":50,\"t\":50,\"b\":50},\"title\":{\"text\":\"Correlation Heatmap\"},\"height\":1000,\"width\":1000},                        {\"responsive\": true}                    ).then(function(){\n",
       "                            \n",
       "var gd = document.getElementById('bb8c5445-10e7-4b64-a3b4-a94cf6a462a4');\n",
       "var x = new MutationObserver(function (mutations, observer) {{\n",
       "        var display = window.getComputedStyle(gd).display;\n",
       "        if (!display || display === 'none') {{\n",
       "            console.log([gd, 'removed!']);\n",
       "            Plotly.purge(gd);\n",
       "            observer.disconnect();\n",
       "        }}\n",
       "}});\n",
       "\n",
       "// Listen for the removal of the full notebook cells\n",
       "var notebookContainer = gd.closest('#notebook-container');\n",
       "if (notebookContainer) {{\n",
       "    x.observe(notebookContainer, {childList: true});\n",
       "}}\n",
       "\n",
       "// Listen for the clearing of the current output cell\n",
       "var outputEl = gd.closest('.output');\n",
       "if (outputEl) {{\n",
       "    x.observe(outputEl, {childList: true});\n",
       "}}\n",
       "\n",
       "                        })                };                });            </script>        </div>"
      ]
     },
     "metadata": {},
     "output_type": "display_data"
    }
   ],
   "source": [
    "corr = df.corr(numeric_only=True)\n",
    "mask = corr < 0.8\n",
    "corr_masked = corr.copy()\n",
    "corr_masked[mask] = np.nan\n",
    "\n",
    "fig = go.Figure(data=go.Heatmap(\n",
    "    z=corr_masked.values,\n",
    "    x=corr_masked.columns,\n",
    "    y=corr_masked.columns,\n",
    "    colorscale='Blues',\n",
    "    zmin=-1, zmax=1,\n",
    "    colorbar=dict(title='Correlation'),\n",
    "    showscale=True\n",
    "))\n",
    "\n",
    "fig.update_layout(\n",
    "    title='Correlation Heatmap',\n",
    "    xaxis_title='Features',\n",
    "    yaxis_title='Features',\n",
    "    xaxis=dict(tickvals=list(corr_masked.columns), ticktext=list(corr_masked.columns)),\n",
    "    yaxis=dict(tickvals=list(corr_masked.columns), ticktext=list(corr_masked.columns)),\n",
    "    height=1000,  \n",
    "    width=1000,   \n",
    "    margin=dict(l=50, r=50, t=50, b=50)\n",
    ")\n",
    "\n",
    "fig.show()"
   ]
  },
  {
   "cell_type": "code",
   "execution_count": 425,
   "id": "58961e14-2fe6-4bc9-a167-91ec248b2d09",
   "metadata": {},
   "outputs": [],
   "source": [
    "df.drop(columns=['availability','size','area_type'],inplace = True)"
   ]
  },
  {
   "cell_type": "code",
   "execution_count": 428,
   "id": "96b8a1c8-71cb-4f20-9b14-849c4de0b0c7",
   "metadata": {},
   "outputs": [],
   "source": [
    "\n",
    "#Checking Dataset with Highest Location Data\n",
    "\n",
    "#Because having values for a location less than 10 won't provide significant information for the dataset\n"
   ]
  },
  {
   "cell_type": "code",
   "execution_count": 426,
   "id": "f106e1b6-69e4-46c2-b4c5-fe5a74a190c8",
   "metadata": {},
   "outputs": [
    {
     "data": {
      "text/plain": [
       "location\n",
       "Whitefield          357\n",
       "Sarjapur  Road      237\n",
       "Electronic City     217\n",
       "Kanakpura Road      157\n",
       "Yelahanka           141\n",
       "                   ... \n",
       "Mylasandra            1\n",
       "Sanne Amanikere       1\n",
       "Chikka Banaswadi      1\n",
       "Ferrar Nagar          1\n",
       "Kammagondahalli       1\n",
       "Name: count, Length: 428, dtype: int64"
      ]
     },
     "execution_count": 426,
     "metadata": {},
     "output_type": "execute_result"
    }
   ],
   "source": [
    "df.location = df.location.str.strip()\n",
    "location_counts = df['location'].value_counts(ascending=False)\n",
    "location_counts"
   ]
  },
  {
   "cell_type": "code",
   "execution_count": 427,
   "id": "864239e0-ab8a-40d3-beff-04ecbe1e6d99",
   "metadata": {},
   "outputs": [],
   "source": [
    "#Creating a Series of Locations with Fewer Than 10 Entries\n",
    "#Identifying locations with less than 10 entries to assess their impact on the dataset"
   ]
  },
  {
   "cell_type": "code",
   "execution_count": 308,
   "id": "db5732da-c423-4ae4-a808-a01be1b664ed",
   "metadata": {},
   "outputs": [
    {
     "data": {
      "text/plain": [
       "location\n",
       "Munnekollal         10\n",
       "Neeladri Nagar      10\n",
       "Gubbalala           10\n",
       "Kannamangala        10\n",
       "Anandapura          10\n",
       "                    ..\n",
       "Mylasandra           1\n",
       "Sanne Amanikere      1\n",
       "Chikka Banaswadi     1\n",
       "Ferrar Nagar         1\n",
       "Kammagondahalli      1\n",
       "Name: count, Length: 317, dtype: int64"
      ]
     },
     "execution_count": 308,
     "metadata": {},
     "output_type": "execute_result"
    }
   ],
   "source": [
    "location_counts_less_10 = location_counts[location_counts<=10]\n",
    "location_counts_less_10"
   ]
  },
  {
   "cell_type": "code",
   "execution_count": 310,
   "id": "63b28be9-f1eb-446d-a08a-bbe4bd52863e",
   "metadata": {},
   "outputs": [],
   "source": [
    "df.location = df.location.apply(lambda x: 'Other' if x in location_counts_less_10 else x)\n",
    "\n",
    "df = df[df.location != 'Other']"
   ]
  },
  {
   "cell_type": "code",
   "execution_count": 439,
   "id": "ceed8848-b696-4f59-b269-fe66670a819b",
   "metadata": {},
   "outputs": [],
   "source": [
    "#Checking for bathrooms <= bhk+2"
   ]
  },
  {
   "cell_type": "code",
   "execution_count": 440,
   "id": "f6551067-0461-4d9b-b483-58582c53df15",
   "metadata": {},
   "outputs": [],
   "source": [
    "df = df[df.bath<df.bhk+2]"
   ]
  },
  {
   "cell_type": "code",
   "execution_count": 441,
   "id": "7df441b0-e3fe-4594-8390-0ec35cc9277f",
   "metadata": {},
   "outputs": [
    {
     "data": {
      "image/png": "[encoded data removed]",
      "text/plain": [
       "<Figure size 1000x800 with 5 Axes>"
      ]
     },
     "metadata": {},
     "output_type": "display_data"
    }
   ],
   "source": [
    "numerical = df.select_dtypes(include = 'float64')\n",
    "fig = plt.figure(figsize =(10,8))\n",
    "for index, col in enumerate(numerical):\n",
    "    plt.subplot(3,2,index+1)\n",
    "    sns.distplot(numerical.loc[:,col],kde = False)\n",
    "fig.tight_layout(pad = 1.0)  "
   ]
  },
  {
   "cell_type": "code",
   "execution_count": 442,
   "id": "fa632c44-325d-471b-8237-35b7465e3174",
   "metadata": {},
   "outputs": [],
   "source": [
    "#Encoding the categorial variables"
   ]
  },
  {
   "cell_type": "code",
   "execution_count": 313,
   "id": "1f879c2f-4e52-4222-87f5-3d4ba736b5f8",
   "metadata": {},
   "outputs": [],
   "source": [
    "dummies = pd.get_dummies(df.location)"
   ]
  },
  {
   "cell_type": "code",
   "execution_count": 314,
   "id": "9703a76d-e558-4fbb-8539-537e127fde14",
   "metadata": {},
   "outputs": [],
   "source": [
    "df = pd.concat([df,dummies],axis='columns')\n",
    "\n",
    "df1 = df.drop('location',axis = 1)\n",
    "\n",
    "df1 = df1.drop(columns=['balcony','price_per_sqft'])"
   ]
  },
  {
   "cell_type": "code",
   "execution_count": 315,
   "id": "af3dc898-e231-4697-98da-cb23f95356fa",
   "metadata": {},
   "outputs": [
    {
     "data": {
      "text/html": [
       "<div>\n",
       "<style scoped>\n",
       "    .dataframe tbody tr th:only-of-type {\n",
       "        vertical-align: middle;\n",
       "    }\n",
       "\n",
       "    .dataframe tbody tr th {\n",
       "        vertical-align: top;\n",
       "    }\n",
       "\n",
       "    .dataframe thead th {\n",
       "        text-align: right;\n",
       "    }\n",
       "</style>\n",
       "<table border=\"1\" class=\"dataframe\">\n",
       "  <thead>\n",
       "    <tr style=\"text-align: right;\">\n",
       "      <th></th>\n",
       "      <th>total_sqft</th>\n",
       "      <th>bath</th>\n",
       "      <th>price</th>\n",
       "      <th>bhk</th>\n",
       "      <th>7th Phase JP Nagar</th>\n",
       "      <th>8th Phase JP Nagar</th>\n",
       "      <th>9th Phase JP Nagar</th>\n",
       "      <th>Abbigere</th>\n",
       "      <th>Akshaya Nagar</th>\n",
       "      <th>Ambalipura</th>\n",
       "      <th>...</th>\n",
       "      <th>Thubarahalli</th>\n",
       "      <th>Tumkur Road</th>\n",
       "      <th>Uttarahalli</th>\n",
       "      <th>Varthur</th>\n",
       "      <th>Vijayanagar</th>\n",
       "      <th>Vittasandra</th>\n",
       "      <th>Whitefield</th>\n",
       "      <th>Yelahanka</th>\n",
       "      <th>Yelahanka New Town</th>\n",
       "      <th>Yeshwanthpur</th>\n",
       "    </tr>\n",
       "  </thead>\n",
       "  <tbody>\n",
       "    <tr>\n",
       "      <th>0</th>\n",
       "      <td>550.0</td>\n",
       "      <td>1.0</td>\n",
       "      <td>27.00</td>\n",
       "      <td>1</td>\n",
       "      <td>False</td>\n",
       "      <td>False</td>\n",
       "      <td>False</td>\n",
       "      <td>False</td>\n",
       "      <td>False</td>\n",
       "      <td>False</td>\n",
       "      <td>...</td>\n",
       "      <td>False</td>\n",
       "      <td>False</td>\n",
       "      <td>False</td>\n",
       "      <td>False</td>\n",
       "      <td>False</td>\n",
       "      <td>False</td>\n",
       "      <td>False</td>\n",
       "      <td>False</td>\n",
       "      <td>False</td>\n",
       "      <td>False</td>\n",
       "    </tr>\n",
       "    <tr>\n",
       "      <th>1</th>\n",
       "      <td>440.0</td>\n",
       "      <td>1.0</td>\n",
       "      <td>28.00</td>\n",
       "      <td>1</td>\n",
       "      <td>False</td>\n",
       "      <td>False</td>\n",
       "      <td>False</td>\n",
       "      <td>False</td>\n",
       "      <td>False</td>\n",
       "      <td>False</td>\n",
       "      <td>...</td>\n",
       "      <td>False</td>\n",
       "      <td>False</td>\n",
       "      <td>False</td>\n",
       "      <td>False</td>\n",
       "      <td>False</td>\n",
       "      <td>False</td>\n",
       "      <td>False</td>\n",
       "      <td>False</td>\n",
       "      <td>False</td>\n",
       "      <td>False</td>\n",
       "    </tr>\n",
       "    <tr>\n",
       "      <th>2</th>\n",
       "      <td>510.0</td>\n",
       "      <td>1.0</td>\n",
       "      <td>25.25</td>\n",
       "      <td>1</td>\n",
       "      <td>False</td>\n",
       "      <td>False</td>\n",
       "      <td>False</td>\n",
       "      <td>False</td>\n",
       "      <td>False</td>\n",
       "      <td>False</td>\n",
       "      <td>...</td>\n",
       "      <td>False</td>\n",
       "      <td>False</td>\n",
       "      <td>False</td>\n",
       "      <td>False</td>\n",
       "      <td>False</td>\n",
       "      <td>False</td>\n",
       "      <td>False</td>\n",
       "      <td>False</td>\n",
       "      <td>False</td>\n",
       "      <td>False</td>\n",
       "    </tr>\n",
       "    <tr>\n",
       "      <th>3</th>\n",
       "      <td>510.0</td>\n",
       "      <td>1.0</td>\n",
       "      <td>25.25</td>\n",
       "      <td>1</td>\n",
       "      <td>False</td>\n",
       "      <td>False</td>\n",
       "      <td>False</td>\n",
       "      <td>False</td>\n",
       "      <td>False</td>\n",
       "      <td>False</td>\n",
       "      <td>...</td>\n",
       "      <td>False</td>\n",
       "      <td>False</td>\n",
       "      <td>False</td>\n",
       "      <td>False</td>\n",
       "      <td>False</td>\n",
       "      <td>False</td>\n",
       "      <td>False</td>\n",
       "      <td>False</td>\n",
       "      <td>False</td>\n",
       "      <td>False</td>\n",
       "    </tr>\n",
       "    <tr>\n",
       "      <th>4</th>\n",
       "      <td>1080.0</td>\n",
       "      <td>2.0</td>\n",
       "      <td>72.00</td>\n",
       "      <td>2</td>\n",
       "      <td>True</td>\n",
       "      <td>False</td>\n",
       "      <td>False</td>\n",
       "      <td>False</td>\n",
       "      <td>False</td>\n",
       "      <td>False</td>\n",
       "      <td>...</td>\n",
       "      <td>False</td>\n",
       "      <td>False</td>\n",
       "      <td>False</td>\n",
       "      <td>False</td>\n",
       "      <td>False</td>\n",
       "      <td>False</td>\n",
       "      <td>False</td>\n",
       "      <td>False</td>\n",
       "      <td>False</td>\n",
       "      <td>False</td>\n",
       "    </tr>\n",
       "    <tr>\n",
       "      <th>...</th>\n",
       "      <td>...</td>\n",
       "      <td>...</td>\n",
       "      <td>...</td>\n",
       "      <td>...</td>\n",
       "      <td>...</td>\n",
       "      <td>...</td>\n",
       "      <td>...</td>\n",
       "      <td>...</td>\n",
       "      <td>...</td>\n",
       "      <td>...</td>\n",
       "      <td>...</td>\n",
       "      <td>...</td>\n",
       "      <td>...</td>\n",
       "      <td>...</td>\n",
       "      <td>...</td>\n",
       "      <td>...</td>\n",
       "      <td>...</td>\n",
       "      <td>...</td>\n",
       "      <td>...</td>\n",
       "      <td>...</td>\n",
       "      <td>...</td>\n",
       "    </tr>\n",
       "    <tr>\n",
       "      <th>4280</th>\n",
       "      <td>1169.0</td>\n",
       "      <td>2.0</td>\n",
       "      <td>64.08</td>\n",
       "      <td>2</td>\n",
       "      <td>False</td>\n",
       "      <td>False</td>\n",
       "      <td>False</td>\n",
       "      <td>False</td>\n",
       "      <td>False</td>\n",
       "      <td>False</td>\n",
       "      <td>...</td>\n",
       "      <td>False</td>\n",
       "      <td>False</td>\n",
       "      <td>False</td>\n",
       "      <td>False</td>\n",
       "      <td>False</td>\n",
       "      <td>False</td>\n",
       "      <td>False</td>\n",
       "      <td>False</td>\n",
       "      <td>False</td>\n",
       "      <td>True</td>\n",
       "    </tr>\n",
       "    <tr>\n",
       "      <th>4281</th>\n",
       "      <td>2500.0</td>\n",
       "      <td>3.0</td>\n",
       "      <td>138.00</td>\n",
       "      <td>3</td>\n",
       "      <td>False</td>\n",
       "      <td>False</td>\n",
       "      <td>False</td>\n",
       "      <td>False</td>\n",
       "      <td>False</td>\n",
       "      <td>False</td>\n",
       "      <td>...</td>\n",
       "      <td>False</td>\n",
       "      <td>False</td>\n",
       "      <td>False</td>\n",
       "      <td>False</td>\n",
       "      <td>False</td>\n",
       "      <td>False</td>\n",
       "      <td>False</td>\n",
       "      <td>False</td>\n",
       "      <td>False</td>\n",
       "      <td>True</td>\n",
       "    </tr>\n",
       "    <tr>\n",
       "      <th>4282</th>\n",
       "      <td>1160.0</td>\n",
       "      <td>2.0</td>\n",
       "      <td>64.08</td>\n",
       "      <td>2</td>\n",
       "      <td>False</td>\n",
       "      <td>False</td>\n",
       "      <td>False</td>\n",
       "      <td>False</td>\n",
       "      <td>False</td>\n",
       "      <td>False</td>\n",
       "      <td>...</td>\n",
       "      <td>False</td>\n",
       "      <td>False</td>\n",
       "      <td>False</td>\n",
       "      <td>False</td>\n",
       "      <td>False</td>\n",
       "      <td>False</td>\n",
       "      <td>False</td>\n",
       "      <td>False</td>\n",
       "      <td>False</td>\n",
       "      <td>True</td>\n",
       "    </tr>\n",
       "    <tr>\n",
       "      <th>4283</th>\n",
       "      <td>2503.0</td>\n",
       "      <td>3.0</td>\n",
       "      <td>138.00</td>\n",
       "      <td>3</td>\n",
       "      <td>False</td>\n",
       "      <td>False</td>\n",
       "      <td>False</td>\n",
       "      <td>False</td>\n",
       "      <td>False</td>\n",
       "      <td>False</td>\n",
       "      <td>...</td>\n",
       "      <td>False</td>\n",
       "      <td>False</td>\n",
       "      <td>False</td>\n",
       "      <td>False</td>\n",
       "      <td>False</td>\n",
       "      <td>False</td>\n",
       "      <td>False</td>\n",
       "      <td>False</td>\n",
       "      <td>False</td>\n",
       "      <td>True</td>\n",
       "    </tr>\n",
       "    <tr>\n",
       "      <th>4284</th>\n",
       "      <td>1855.0</td>\n",
       "      <td>3.0</td>\n",
       "      <td>135.00</td>\n",
       "      <td>3</td>\n",
       "      <td>False</td>\n",
       "      <td>False</td>\n",
       "      <td>False</td>\n",
       "      <td>False</td>\n",
       "      <td>False</td>\n",
       "      <td>False</td>\n",
       "      <td>...</td>\n",
       "      <td>False</td>\n",
       "      <td>False</td>\n",
       "      <td>False</td>\n",
       "      <td>False</td>\n",
       "      <td>False</td>\n",
       "      <td>False</td>\n",
       "      <td>False</td>\n",
       "      <td>False</td>\n",
       "      <td>False</td>\n",
       "      <td>True</td>\n",
       "    </tr>\n",
       "  </tbody>\n",
       "</table>\n",
       "<p>4285 rows × 115 columns</p>\n",
       "</div>"
      ],
      "text/plain": [
       "      total_sqft  bath   price  bhk  7th Phase JP Nagar  8th Phase JP Nagar  \\\n",
       "0          550.0   1.0   27.00    1               False               False   \n",
       "1          440.0   1.0   28.00    1               False               False   \n",
       "2          510.0   1.0   25.25    1               False               False   \n",
       "3          510.0   1.0   25.25    1               False               False   \n",
       "4         1080.0   2.0   72.00    2                True               False   \n",
       "...          ...   ...     ...  ...                 ...                 ...   \n",
       "4280      1169.0   2.0   64.08    2               False               False   \n",
       "4281      2500.0   3.0  138.00    3               False               False   \n",
       "4282      1160.0   2.0   64.08    2               False               False   \n",
       "4283      2503.0   3.0  138.00    3               False               False   \n",
       "4284      1855.0   3.0  135.00    3               False               False   \n",
       "\n",
       "      9th Phase JP Nagar  Abbigere  Akshaya Nagar  Ambalipura  ...  \\\n",
       "0                  False     False          False       False  ...   \n",
       "1                  False     False          False       False  ...   \n",
       "2                  False     False          False       False  ...   \n",
       "3                  False     False          False       False  ...   \n",
       "4                  False     False          False       False  ...   \n",
       "...                  ...       ...            ...         ...  ...   \n",
       "4280               False     False          False       False  ...   \n",
       "4281               False     False          False       False  ...   \n",
       "4282               False     False          False       False  ...   \n",
       "4283               False     False          False       False  ...   \n",
       "4284               False     False          False       False  ...   \n",
       "\n",
       "      Thubarahalli  Tumkur Road  Uttarahalli  Varthur  Vijayanagar  \\\n",
       "0            False        False        False    False        False   \n",
       "1            False        False        False    False        False   \n",
       "2            False        False        False    False        False   \n",
       "3            False        False        False    False        False   \n",
       "4            False        False        False    False        False   \n",
       "...            ...          ...          ...      ...          ...   \n",
       "4280         False        False        False    False        False   \n",
       "4281         False        False        False    False        False   \n",
       "4282         False        False        False    False        False   \n",
       "4283         False        False        False    False        False   \n",
       "4284         False        False        False    False        False   \n",
       "\n",
       "      Vittasandra  Whitefield  Yelahanka  Yelahanka New Town  Yeshwanthpur  \n",
       "0           False       False      False               False         False  \n",
       "1           False       False      False               False         False  \n",
       "2           False       False      False               False         False  \n",
       "3           False       False      False               False         False  \n",
       "4           False       False      False               False         False  \n",
       "...           ...         ...        ...                 ...           ...  \n",
       "4280        False       False      False               False          True  \n",
       "4281        False       False      False               False          True  \n",
       "4282        False       False      False               False          True  \n",
       "4283        False       False      False               False          True  \n",
       "4284        False       False      False               False          True  \n",
       "\n",
       "[4285 rows x 115 columns]"
      ]
     },
     "execution_count": 315,
     "metadata": {},
     "output_type": "execute_result"
    }
   ],
   "source": [
    "df1.reset_index(drop = True)"
   ]
  },
  {
   "cell_type": "code",
   "execution_count": 443,
   "id": "e03d6c96-829d-4238-87c6-3e426d19a85e",
   "metadata": {},
   "outputs": [],
   "source": [
    "#Separate the price column"
   ]
  },
  {
   "cell_type": "code",
   "execution_count": 316,
   "id": "0edd711d-06af-43a6-9f9e-e4961e099735",
   "metadata": {},
   "outputs": [],
   "source": [
    "X = df1.drop('price',axis = 1).values \n",
    "y = df1.price.values "
   ]
  },
  {
   "cell_type": "code",
   "execution_count": 317,
   "id": "04d30693-2dbb-4512-b89f-f083decde313",
   "metadata": {},
   "outputs": [],
   "source": [
    "y = y[:,np.newaxis]"
   ]
  },
  {
   "cell_type": "code",
   "execution_count": 444,
   "id": "e2f41a3c-f3a1-4bd3-8820-28982f7305c8",
   "metadata": {},
   "outputs": [],
   "source": [
    "#Scale the numerical features"
   ]
  },
  {
   "cell_type": "code",
   "execution_count": 346,
   "id": "7db10442-0074-4d8b-8c7b-15b43e0ed518",
   "metadata": {},
   "outputs": [],
   "source": [
    "from sklearn import preprocessing"
   ]
  },
  {
   "cell_type": "code",
   "execution_count": 361,
   "id": "f402a0af-a6ba-4af7-9b4d-3baa8fe0b5b3",
   "metadata": {},
   "outputs": [],
   "source": [
    "Scaler=preprocessing.StandardScaler()\n",
    "X1 = Scaler.fit_transform(X)"
   ]
  },
  {
   "cell_type": "code",
   "execution_count": 445,
   "id": "f609d1e3-b426-4ac3-8aed-0f128df5a4ce",
   "metadata": {},
   "outputs": [],
   "source": [
    "#Model Training"
   ]
  },
  {
   "cell_type": "code",
   "execution_count": 362,
   "id": "f8ee014c-13d3-48d7-a53c-0008281aa994",
   "metadata": {},
   "outputs": [],
   "source": [
    "from sklearn.model_selection import train_test_split\n",
    "X_train, X_test, y_train, y_test = train_test_split(X1,y,test_size=0.3,random_state=10)"
   ]
  },
  {
   "cell_type": "code",
   "execution_count": 446,
   "id": "b471f272-3c93-4dae-a240-365dbb0be095",
   "metadata": {},
   "outputs": [],
   "source": [
    "#Linear Regression Model, Decision Tree Regression, Random Forest Regressor, Gradient Boosting Regression"
   ]
  },
  {
   "cell_type": "code",
   "execution_count": 363,
   "id": "b5776014-40a4-4b38-a3c3-d035517e120d",
   "metadata": {},
   "outputs": [],
   "source": [
    "from sklearn.linear_model import LinearRegression\n",
    "from sklearn.tree import DecisionTreeRegressor\n",
    "from sklearn.ensemble import RandomForestRegressor, GradientBoostingRegressor\n",
    "from sklearn.metrics import mean_absolute_error, root_mean_squared_error, r2_score"
   ]
  },
  {
   "cell_type": "code",
   "execution_count": 364,
   "id": "7fa7c51f-299d-48e9-ae8e-a6081877efc7",
   "metadata": {},
   "outputs": [],
   "source": [
    "models = [\n",
    "    LinearRegression(),\n",
    "    DecisionTreeRegressor(),\n",
    "    RandomForestRegressor(),\n",
    "    GradientBoostingRegressor(),\n",
    "]"
   ]
  },
  {
   "cell_type": "code",
   "execution_count": 382,
   "id": "b1bf3396-2e9c-439c-abc4-ec28e9041146",
   "metadata": {},
   "outputs": [],
   "source": [
    "model_names = []\n",
    "mae_Accuracy=[]\n",
    "rmse_Accuracy=[]\n",
    "r2_Accuracy=[]\n",
    "\n",
    "for model in models:\n",
    "    model.fit(X_train,y_train)\n",
    "    y_pred = model.predict(X_test)\n",
    "    mae = mean_absolute_error(y_test,y_pred)\n",
    "    rmse = root_mean_squared_error(y_test,y_pred)\n",
    "    r2 = r2_score(y_test, y_pred)\n",
    "    model_names.append(model.__class__.__name__)\n",
    "    mae_Accuracy.append(mae)\n",
    "    rmse_Accuracy.append(rmse)\n",
    "    r2_Accuracy.append(r2)\n"
   ]
  },
  {
   "cell_type": "code",
   "execution_count": 383,
   "id": "542d6f09-2417-4b39-9f4c-1bd7b190de52",
   "metadata": {},
   "outputs": [],
   "source": [
    "model_df = pd.DataFrame({\n",
    "    'Model': model_names,\n",
    "    'mae_Accuracy': mae_Accuracy,\n",
    "    'rmse_Accuracy': rmse_Accuracy,\n",
    "    'r2_Accuracy': r2_Accuracy,\n",
    "        })"
   ]
  },
  {
   "cell_type": "code",
   "execution_count": 384,
   "id": "7ec2a776-9fe6-46d1-ab7d-8d6a9a6d68b5",
   "metadata": {},
   "outputs": [
    {
     "data": {
      "text/html": [
       "<div>\n",
       "<style scoped>\n",
       "    .dataframe tbody tr th:only-of-type {\n",
       "        vertical-align: middle;\n",
       "    }\n",
       "\n",
       "    .dataframe tbody tr th {\n",
       "        vertical-align: top;\n",
       "    }\n",
       "\n",
       "    .dataframe thead th {\n",
       "        text-align: right;\n",
       "    }\n",
       "</style>\n",
       "<table border=\"1\" class=\"dataframe\">\n",
       "  <thead>\n",
       "    <tr style=\"text-align: right;\">\n",
       "      <th></th>\n",
       "      <th>Model</th>\n",
       "      <th>mae_Accuracy</th>\n",
       "      <th>rmse_Accuracy</th>\n",
       "      <th>r2_Accuracy</th>\n",
       "    </tr>\n",
       "  </thead>\n",
       "  <tbody>\n",
       "    <tr>\n",
       "      <th>0</th>\n",
       "      <td>LinearRegression</td>\n",
       "      <td>10.070871</td>\n",
       "      <td>14.958011</td>\n",
       "      <td>0.912366</td>\n",
       "    </tr>\n",
       "    <tr>\n",
       "      <th>2</th>\n",
       "      <td>RandomForestRegressor</td>\n",
       "      <td>9.176727</td>\n",
       "      <td>15.302816</td>\n",
       "      <td>0.908279</td>\n",
       "    </tr>\n",
       "    <tr>\n",
       "      <th>3</th>\n",
       "      <td>GradientBoostingRegressor</td>\n",
       "      <td>11.589150</td>\n",
       "      <td>15.837619</td>\n",
       "      <td>0.901756</td>\n",
       "    </tr>\n",
       "    <tr>\n",
       "      <th>1</th>\n",
       "      <td>DecisionTreeRegressor</td>\n",
       "      <td>10.359237</td>\n",
       "      <td>18.049088</td>\n",
       "      <td>0.872404</td>\n",
       "    </tr>\n",
       "  </tbody>\n",
       "</table>\n",
       "</div>"
      ],
      "text/plain": [
       "                       Model  mae_Accuracy  rmse_Accuracy  r2_Accuracy\n",
       "0           LinearRegression     10.070871      14.958011     0.912366\n",
       "2      RandomForestRegressor      9.176727      15.302816     0.908279\n",
       "3  GradientBoostingRegressor     11.589150      15.837619     0.901756\n",
       "1      DecisionTreeRegressor     10.359237      18.049088     0.872404"
      ]
     },
     "execution_count": 384,
     "metadata": {},
     "output_type": "execute_result"
    }
   ],
   "source": [
    "model_df.sort_values(by='r2_Accuracy',ascending=False)"
   ]
  },
  {
   "cell_type": "code",
   "execution_count": 447,
   "id": "45e58f65-6276-430e-8139-ac2b782d1ad3",
   "metadata": {},
   "outputs": [],
   "source": [
    "#Choose the best model and save as a pickle file"
   ]
  },
  {
   "cell_type": "code",
   "execution_count": 448,
   "id": "58d2561e-fb4c-4a13-98e1-5838079dc3ce",
   "metadata": {},
   "outputs": [],
   "source": [
    "import pickle"
   ]
  },
  {
   "cell_type": "code",
   "execution_count": 450,
   "id": "73454d3b-c7ea-4a77-a8ca-dff2f55eb4c0",
   "metadata": {},
   "outputs": [],
   "source": [
    "with open ('house_price_predictor_model.pickle' , 'wb') as f:\n",
    "    pickle.dump(LinearRegression() ,f)"
   ]
  },
  {
   "cell_type": "code",
   "execution_count": null,
   "id": "c0b6fc37-20ec-4046-939e-4a76bf880048",
   "metadata": {},
   "outputs": [],
   "source": []
  }
 ],
 "metadata": {
  "kernelspec": {
   "display_name": "Python 3 (ipykernel)",
   "language": "python",
   "name": "python3"
  },
  "language_info": {
   "codemirror_mode": {
    "name": "ipython",
    "version": 3
   },
   "file_extension": ".py",
   "mimetype": "text/x-python",
   "name": "python",
   "nbconvert_exporter": "python",
   "pygments_lexer": "ipython3",
   "version": "3.11.7"
  }
 },
 "nbformat": 4,
 "nbformat_minor": 5
}
